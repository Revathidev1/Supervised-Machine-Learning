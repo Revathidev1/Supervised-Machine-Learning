{
 "cells": [
  {
   "cell_type": "code",
   "execution_count": 11,
   "metadata": {
    "executionInfo": {
     "elapsed": 515,
     "status": "ok",
     "timestamp": 1674641428013,
     "user": {
      "displayName": "Hana Lacic",
      "userId": "03901848044717845615"
     },
     "user_tz": -60
    },
    "id": "ZpI9DpkT9AcN"
   },
   "outputs": [],
   "source": [
    "# this needs to be run for each new runtime\n",
    "# because colab has scikit-learn 1.0.2 pre-installed \n",
    "# and we need newer version (1.2.0 and higher)\n",
    "# to use .set_output() method\n",
    "#!pip install scikit-learn --upgrade\n",
    "\n",
    "# if you plan on running the whole notebook again during the same runtime\n",
    "# you can comment the line above"
   ]
  },
  {
   "cell_type": "code",
   "execution_count": null,
   "metadata": {},
   "outputs": [],
   "source": []
  },
  {
   "cell_type": "markdown",
   "metadata": {
    "id": "qXFGScYJv0zO"
   },
   "source": [
    "# Titanic 3: Creating a Pipeline and tuning the model with Grid Search Cross Validation"
   ]
  },
  {
   "cell_type": "markdown",
   "metadata": {
    "id": "hvblkIsDwBlI"
   },
   "source": [
    "# Data reading and preprocessing for Housing calculation\n",
    "\n",
    "We will first review what we did in the previous notebook."
   ]
  },
  {
   "cell_type": "code",
   "execution_count": 12,
   "metadata": {
    "executionInfo": {
     "elapsed": 871,
     "status": "ok",
     "timestamp": 1674641437953,
     "user": {
      "displayName": "Hana Lacic",
      "userId": "03901848044717845615"
     },
     "user_tz": -60
    },
    "id": "JZ8bIzGAgCpI"
   },
   "outputs": [],
   "source": [
    "import pandas as pd"
   ]
  },
  {
   "cell_type": "code",
   "execution_count": 13,
   "metadata": {
    "colab": {
     "base_uri": "https://localhost:8080/",
     "height": 206
    },
    "executionInfo": {
     "elapsed": 2133,
     "status": "ok",
     "timestamp": 1674641443639,
     "user": {
      "displayName": "Hana Lacic",
      "userId": "03901848044717845615"
     },
     "user_tz": -60
    },
    "id": "fgUcuPKovu5T",
    "outputId": "5cc177cc-205a-4dd8-d2d5-a444f2c39469"
   },
   "outputs": [],
   "source": [
    "import pandas as pd\n",
    "from sklearn.model_selection import train_test_split\n",
    "from sklearn.impute import SimpleImputer\n",
    "from sklearn.tree import DecisionTreeClassifier\n",
    "from sklearn.metrics import accuracy_score\n",
    "from sklearn.pipeline import make_pipeline\n",
    "\n",
    "\n",
    "# reading\n",
    "house = pd.read_csv(r'housing-classification-iter6.csv')"
   ]
  },
  {
   "cell_type": "markdown",
   "metadata": {
    "id": "57d0l4uEvu5W"
   },
   "source": [
    "## 1.1. Set X and y"
   ]
  },
  {
   "cell_type": "markdown",
   "metadata": {
    "id": "3H0mDLIvhhBx"
   },
   "source": [
    "- **X**: columns that help us make a prediction.\n",
    "- **y**: the column that we want to predict."
   ]
  },
  {
   "cell_type": "code",
   "execution_count": 14,
   "metadata": {
    "executionInfo": {
     "elapsed": 361,
     "status": "ok",
     "timestamp": 1674641470588,
     "user": {
      "displayName": "Hana Lacic",
      "userId": "03901848044717845615"
     },
     "user_tz": -60
    },
    "id": "3rX2vgy5vu5Y"
   },
   "outputs": [],
   "source": [
    "X = house.drop(columns=[\"Fireplaces\", \"PoolArea\",  \"ScreenPorch\"],axis=1)\n",
    "#y = X.pop(\"Expensive\")"
   ]
  },
  {
   "cell_type": "markdown",
   "metadata": {
    "id": "f8p21HITfFnc"
   },
   "source": [
    "Since scikit-Learn models cannot deal with categorical features, we will keep only the numerical features."
   ]
  },
  {
   "cell_type": "markdown",
   "metadata": {
    "id": "IDfzSb5hvu5Z"
   },
   "source": [
    "## 1.2. Split the data"
   ]
  },
  {
   "cell_type": "code",
   "execution_count": 15,
   "metadata": {
    "executionInfo": {
     "elapsed": 492,
     "status": "ok",
     "timestamp": 1674641528799,
     "user": {
      "displayName": "Hana Lacic",
      "userId": "03901848044717845615"
     },
     "user_tz": -60
    },
    "id": "TQ0DZqlKgAf4"
   },
   "outputs": [],
   "source": [
    "from sklearn.model_selection import train_test_split"
   ]
  },
  {
   "cell_type": "code",
   "execution_count": 16,
   "metadata": {
    "executionInfo": {
     "elapsed": 349,
     "status": "ok",
     "timestamp": 1674641554021,
     "user": {
      "displayName": "Hana Lacic",
      "userId": "03901848044717845615"
     },
     "user_tz": -60
    },
    "id": "ul_C6DXMvu5a"
   },
   "outputs": [],
   "source": [
    "X_train, X_test = train_test_split(X, test_size=0.2,  random_state=123)"
   ]
  },
  {
   "cell_type": "markdown",
   "metadata": {
    "id": "x9RPgKLhvu5b"
   },
   "source": [
    "## 1.3. Impute missing values"
   ]
  },
  {
   "cell_type": "markdown",
   "metadata": {
    "id": "yUMcTmvGQEGi"
   },
   "source": [
    "(Fit on train, transform train & test)"
   ]
  },
  {
   "cell_type": "code",
   "execution_count": 17,
   "metadata": {
    "executionInfo": {
     "elapsed": 367,
     "status": "ok",
     "timestamp": 1674641895842,
     "user": {
      "displayName": "Hana Lacic",
      "userId": "03901848044717845615"
     },
     "user_tz": -60
    },
    "id": "IOTk7_HSQEGt"
   },
   "outputs": [
    {
     "ename": "ValueError",
     "evalue": "Cannot use mean strategy with non-numeric data:\ncould not convert string to float: 'RL'",
     "output_type": "error",
     "traceback": [
      "\u001b[1;31m---------------------------------------------------------------------------\u001b[0m",
      "\u001b[1;31mValueError\u001b[0m                                Traceback (most recent call last)",
      "\u001b[1;32m~\\AppData\\Local\\Temp\\ipykernel_36428\\951428787.py\u001b[0m in \u001b[0;36m<module>\u001b[1;34m\u001b[0m\n\u001b[0;32m      2\u001b[0m \u001b[1;33m\u001b[0m\u001b[0m\n\u001b[0;32m      3\u001b[0m \u001b[0mmy_imputer\u001b[0m \u001b[1;33m=\u001b[0m \u001b[0mSimpleImputer\u001b[0m\u001b[1;33m(\u001b[0m\u001b[1;33m)\u001b[0m\u001b[1;33m.\u001b[0m\u001b[0mset_output\u001b[0m\u001b[1;33m(\u001b[0m\u001b[0mtransform\u001b[0m\u001b[1;33m=\u001b[0m\u001b[1;34m'pandas'\u001b[0m\u001b[1;33m)\u001b[0m \u001b[1;31m# initialize\u001b[0m\u001b[1;33m\u001b[0m\u001b[1;33m\u001b[0m\u001b[0m\n\u001b[1;32m----> 4\u001b[1;33m \u001b[0mmy_imputer\u001b[0m\u001b[1;33m.\u001b[0m\u001b[0mfit\u001b[0m\u001b[1;33m(\u001b[0m\u001b[0mX_train\u001b[0m\u001b[1;33m)\u001b[0m \u001b[1;31m# fit on the train set\u001b[0m\u001b[1;33m\u001b[0m\u001b[1;33m\u001b[0m\u001b[0m\n\u001b[0m\u001b[0;32m      5\u001b[0m \u001b[0mX_imputed_train\u001b[0m \u001b[1;33m=\u001b[0m \u001b[0mmy_imputer\u001b[0m\u001b[1;33m.\u001b[0m\u001b[0mtransform\u001b[0m\u001b[1;33m(\u001b[0m\u001b[0mX_train\u001b[0m\u001b[1;33m)\u001b[0m \u001b[1;31m# transform the train set\u001b[0m\u001b[1;33m\u001b[0m\u001b[1;33m\u001b[0m\u001b[0m\n\u001b[0;32m      6\u001b[0m \u001b[0mX_imputed_test\u001b[0m \u001b[1;33m=\u001b[0m \u001b[0mmy_imputer\u001b[0m\u001b[1;33m.\u001b[0m\u001b[0mtransform\u001b[0m\u001b[1;33m(\u001b[0m\u001b[0mX_test\u001b[0m\u001b[1;33m)\u001b[0m \u001b[1;31m# transform the test set\u001b[0m\u001b[1;33m\u001b[0m\u001b[1;33m\u001b[0m\u001b[0m\n",
      "\u001b[1;32mC:\\anaconda\\anaconda3\\lib\\site-packages\\sklearn\\impute\\_base.py\u001b[0m in \u001b[0;36mfit\u001b[1;34m(self, X, y)\u001b[0m\n\u001b[0;32m    388\u001b[0m             )\n\u001b[0;32m    389\u001b[0m \u001b[1;33m\u001b[0m\u001b[0m\n\u001b[1;32m--> 390\u001b[1;33m         \u001b[0mX\u001b[0m \u001b[1;33m=\u001b[0m \u001b[0mself\u001b[0m\u001b[1;33m.\u001b[0m\u001b[0m_validate_input\u001b[0m\u001b[1;33m(\u001b[0m\u001b[0mX\u001b[0m\u001b[1;33m,\u001b[0m \u001b[0min_fit\u001b[0m\u001b[1;33m=\u001b[0m\u001b[1;32mTrue\u001b[0m\u001b[1;33m)\u001b[0m\u001b[1;33m\u001b[0m\u001b[1;33m\u001b[0m\u001b[0m\n\u001b[0m\u001b[0;32m    391\u001b[0m \u001b[1;33m\u001b[0m\u001b[0m\n\u001b[0;32m    392\u001b[0m         \u001b[1;31m# default fill_value is 0 for numerical input and \"missing_value\"\u001b[0m\u001b[1;33m\u001b[0m\u001b[1;33m\u001b[0m\u001b[0m\n",
      "\u001b[1;32mC:\\anaconda\\anaconda3\\lib\\site-packages\\sklearn\\impute\\_base.py\u001b[0m in \u001b[0;36m_validate_input\u001b[1;34m(self, X, in_fit)\u001b[0m\n\u001b[0;32m    340\u001b[0m                     )\n\u001b[0;32m    341\u001b[0m                 )\n\u001b[1;32m--> 342\u001b[1;33m                 \u001b[1;32mraise\u001b[0m \u001b[0mnew_ve\u001b[0m \u001b[1;32mfrom\u001b[0m \u001b[1;32mNone\u001b[0m\u001b[1;33m\u001b[0m\u001b[1;33m\u001b[0m\u001b[0m\n\u001b[0m\u001b[0;32m    343\u001b[0m             \u001b[1;32melse\u001b[0m\u001b[1;33m:\u001b[0m\u001b[1;33m\u001b[0m\u001b[1;33m\u001b[0m\u001b[0m\n\u001b[0;32m    344\u001b[0m                 \u001b[1;32mraise\u001b[0m \u001b[0mve\u001b[0m\u001b[1;33m\u001b[0m\u001b[1;33m\u001b[0m\u001b[0m\n",
      "\u001b[1;31mValueError\u001b[0m: Cannot use mean strategy with non-numeric data:\ncould not convert string to float: 'RL'"
     ]
    }
   ],
   "source": [
    "from sklearn.impute import SimpleImputer\n",
    "\n",
    "my_imputer = SimpleImputer().set_output(transform='pandas') # initialize\n",
    "my_imputer.fit(X_train) # fit on the train set\n",
    "X_imputed_train = my_imputer.transform(X_train) # transform the train set\n",
    "X_imputed_test = my_imputer.transform(X_test) # transform the test set"
   ]
  },
  {
   "cell_type": "markdown",
   "metadata": {
    "id": "g0QFXBvGvu5c"
   },
   "source": [
    "## 1.4. Modelling: Decision Tree\n",
    "\n",
    "https://scikit-learn.org/stable/modules/generated/sklearn.tree.DecisionTreeClassifier.html"
   ]
  },
  {
   "cell_type": "code",
   "execution_count": null,
   "metadata": {
    "executionInfo": {
     "elapsed": 366,
     "status": "ok",
     "timestamp": 1674641943280,
     "user": {
      "displayName": "Hana Lacic",
      "userId": "03901848044717845615"
     },
     "user_tz": -60
    },
    "id": "5m3zhmhdfnqy"
   },
   "outputs": [],
   "source": [
    "from sklearn.tree import DecisionTreeClassifier"
   ]
  },
  {
   "cell_type": "markdown",
   "metadata": {
    "id": "s_fYygHVfqou"
   },
   "source": [
    "Initialize the model."
   ]
  },
  {
   "cell_type": "code",
   "execution_count": null,
   "metadata": {
    "executionInfo": {
     "elapsed": 355,
     "status": "ok",
     "timestamp": 1674641954465,
     "user": {
      "displayName": "Hana Lacic",
      "userId": "03901848044717845615"
     },
     "user_tz": -60
    },
    "id": "oZmmxJ63vu5d"
   },
   "outputs": [],
   "source": [
    "my_tree = DecisionTreeClassifier(max_depth=4,\n",
    "                                 min_samples_leaf=10\n",
    "                                )"
   ]
  },
  {
   "cell_type": "markdown",
   "metadata": {
    "id": "H3Ajp-ONftwQ"
   },
   "source": [
    "Fit the model to the train data."
   ]
  },
  {
   "cell_type": "code",
   "execution_count": null,
   "metadata": {
    "colab": {
     "base_uri": "https://localhost:8080/",
     "height": 74
    },
    "executionInfo": {
     "elapsed": 364,
     "status": "ok",
     "timestamp": 1674641979843,
     "user": {
      "displayName": "Hana Lacic",
      "userId": "03901848044717845615"
     },
     "user_tz": -60
    },
    "id": "3A_esq78fyTA",
    "outputId": "3149b033-d4e2-4d10-dca5-0c3bb89366b3"
   },
   "outputs": [],
   "source": [
    "my_tree.fit(X = X_imputed_train, \n",
    "            y = y_train)"
   ]
  },
  {
   "cell_type": "markdown",
   "metadata": {
    "id": "mySTGdw_vu5d"
   },
   "source": [
    "## 1.5. Check accuracy on the train set"
   ]
  },
  {
   "cell_type": "code",
   "execution_count": null,
   "metadata": {
    "executionInfo": {
     "elapsed": 350,
     "status": "ok",
     "timestamp": 1674641986768,
     "user": {
      "displayName": "Hana Lacic",
      "userId": "03901848044717845615"
     },
     "user_tz": -60
    },
    "id": "_8wR-FqwfjY-"
   },
   "outputs": [],
   "source": [
    "from sklearn.metrics import accuracy_score"
   ]
  },
  {
   "cell_type": "markdown",
   "metadata": {
    "id": "nCSacsZxORaS"
   },
   "source": [
    "Use the model and the preprocessed **train** data to make predictions."
   ]
  },
  {
   "cell_type": "code",
   "execution_count": null,
   "metadata": {
    "executionInfo": {
     "elapsed": 366,
     "status": "ok",
     "timestamp": 1674642116515,
     "user": {
      "displayName": "Hana Lacic",
      "userId": "03901848044717845615"
     },
     "user_tz": -60
    },
    "id": "kfa0Aoi6vu5e"
   },
   "outputs": [],
   "source": [
    "y_pred_tree_train = my_tree.predict(X_imputed_train)"
   ]
  },
  {
   "cell_type": "code",
   "execution_count": null,
   "metadata": {
    "colab": {
     "base_uri": "https://localhost:8080/"
    },
    "executionInfo": {
     "elapsed": 351,
     "status": "ok",
     "timestamp": 1674642124025,
     "user": {
      "displayName": "Hana Lacic",
      "userId": "03901848044717845615"
     },
     "user_tz": -60
    },
    "id": "77mcUizEO1Ia",
    "outputId": "8c29482b-bad4-4bef-ffc8-4cd1507fe1f9"
   },
   "outputs": [],
   "source": [
    "y_pred_tree_train"
   ]
  },
  {
   "cell_type": "markdown",
   "metadata": {
    "id": "ScETp95BO24Q"
   },
   "source": [
    "Take the predicted values and the data from y train, and compare them with each other. The greater the share of correct predictions is, the closer the accuracy score will be to 1."
   ]
  },
  {
   "cell_type": "code",
   "execution_count": null,
   "metadata": {
    "colab": {
     "base_uri": "https://localhost:8080/"
    },
    "executionInfo": {
     "elapsed": 361,
     "status": "ok",
     "timestamp": 1674642157063,
     "user": {
      "displayName": "Hana Lacic",
      "userId": "03901848044717845615"
     },
     "user_tz": -60
    },
    "id": "PDENRfI1OjGb",
    "outputId": "e694d7c6-10f5-4b3e-97fb-f031bcb86bf0"
   },
   "outputs": [],
   "source": [
    "accuracy_score(y_true = y_train,\n",
    "               y_pred = y_pred_tree_train)"
   ]
  },
  {
   "cell_type": "markdown",
   "metadata": {
    "id": "uAUerP3Gvu5e"
   },
   "source": [
    "## 1.6. Check accuracy on the test set"
   ]
  },
  {
   "cell_type": "markdown",
   "metadata": {
    "id": "PA062QmwPNlS"
   },
   "source": [
    "To check whether our model is only good at predicting the values it was trained on (overfitting) or also useful to predict new data:\n",
    "\n",
    "use the model and the preprocessed **test** data to make predictions."
   ]
  },
  {
   "cell_type": "code",
   "execution_count": null,
   "metadata": {
    "executionInfo": {
     "elapsed": 346,
     "status": "ok",
     "timestamp": 1674642192368,
     "user": {
      "displayName": "Hana Lacic",
      "userId": "03901848044717845615"
     },
     "user_tz": -60
    },
    "id": "P3DZqJnnvu5e"
   },
   "outputs": [],
   "source": [
    "y_pred_tree_test = my_tree.predict(X_imputed_test)"
   ]
  },
  {
   "cell_type": "markdown",
   "metadata": {
    "id": "4YXastxJPx8g"
   },
   "source": [
    "Then, take the predicted values and the data from y test, and compare them with each other.\n",
    "\n",
    "Ideally, the accuracy for the train and the test data is similar."
   ]
  },
  {
   "cell_type": "code",
   "execution_count": null,
   "metadata": {
    "colab": {
     "base_uri": "https://localhost:8080/"
    },
    "executionInfo": {
     "elapsed": 373,
     "status": "ok",
     "timestamp": 1674642260809,
     "user": {
      "displayName": "Hana Lacic",
      "userId": "03901848044717845615"
     },
     "user_tz": -60
    },
    "id": "Ptummy7TPs3K",
    "outputId": "4fa5b54c-316f-4fee-948d-90fe425be7d3"
   },
   "outputs": [],
   "source": [
    "my_test_score = accuracy_score(y_true = y_test,\n",
    "               y_pred = y_pred_tree_test)\n",
    "round(my_test_score,4)"
   ]
  },
  {
   "cell_type": "markdown",
   "metadata": {
    "id": "Rm08l1JBvu5h"
   },
   "source": [
    "# 2.&nbsp; Pipeline creation"
   ]
  },
  {
   "cell_type": "markdown",
   "metadata": {
    "id": "LlwR7bcBfBqi"
   },
   "source": [
    "Before moving forward in our quest to improve the model, take a moment to learn how to use Scikit-Learn Pipelines. They will not increase the performance of your model. However, they are a necessary tool to compress all the steps in the data preparation & modelling phases into a single one. This will become very relevant as we move forward and keep adding more steps:\n",
    "\n",
    "* Read the lesson \"Scikit-Learn Pipelines\" on the platform.\n",
    "\n",
    "* Check the docs: https://scikit-learn.org/stable/modules/generated/sklearn.pipeline.make_pipeline.html"
   ]
  },
  {
   "cell_type": "code",
   "execution_count": null,
   "metadata": {
    "executionInfo": {
     "elapsed": 356,
     "status": "ok",
     "timestamp": 1674642403874,
     "user": {
      "displayName": "Hana Lacic",
      "userId": "03901848044717845615"
     },
     "user_tz": -60
    },
    "id": "xXSft-JsY3xh"
   },
   "outputs": [],
   "source": [
    "from sklearn.impute import SimpleImputer\n",
    "from sklearn.tree import DecisionTreeClassifier\n",
    "from sklearn.pipeline import make_pipeline"
   ]
  },
  {
   "cell_type": "markdown",
   "metadata": {
    "id": "TkvJqYqjY5pF"
   },
   "source": [
    "## 2.1 Initialize transformer and model"
   ]
  },
  {
   "cell_type": "code",
   "execution_count": null,
   "metadata": {
    "executionInfo": {
     "elapsed": 364,
     "status": "ok",
     "timestamp": 1674642606423,
     "user": {
      "displayName": "Hana Lacic",
      "userId": "03901848044717845615"
     },
     "user_tz": -60
    },
    "id": "HlJcpzCcY-de"
   },
   "outputs": [],
   "source": [
    "imputer = SimpleImputer(strategy=\"median\")\n",
    "dtree = DecisionTreeClassifier(max_depth=4,\n",
    "                               min_samples_leaf=10)"
   ]
  },
  {
   "cell_type": "markdown",
   "metadata": {
    "id": "t9q2XmrrZA-G"
   },
   "source": [
    "## 2.2 Create a pipeline"
   ]
  },
  {
   "cell_type": "code",
   "execution_count": null,
   "metadata": {
    "executionInfo": {
     "elapsed": 4,
     "status": "ok",
     "timestamp": 1674642609159,
     "user": {
      "displayName": "Hana Lacic",
      "userId": "03901848044717845615"
     },
     "user_tz": -60
    },
    "id": "dYJo9JB9ZEbY"
   },
   "outputs": [],
   "source": [
    "pipe = make_pipeline(imputer, dtree).set_output(transform='pandas')"
   ]
  },
  {
   "cell_type": "markdown",
   "metadata": {
    "id": "VA-Sv3M1ZGjk"
   },
   "source": [
    "Note that make_pipeline is just a slightly more concise function than Pipeline, as it does not require you to name each step, but their behaviour is equivalent."
   ]
  },
  {
   "cell_type": "code",
   "execution_count": null,
   "metadata": {
    "executionInfo": {
     "elapsed": 451,
     "status": "ok",
     "timestamp": 1674642726608,
     "user": {
      "displayName": "Hana Lacic",
      "userId": "03901848044717845615"
     },
     "user_tz": -60
    },
    "id": "fdZBXWhxQrM0"
   },
   "outputs": [],
   "source": [
    "from sklearn.pipeline import Pipeline\n",
    "pipe_2 = Pipeline([(\"imputer\", imputer), (\"classifier\", dtree)]).set_output(transform='pandas')"
   ]
  },
  {
   "cell_type": "markdown",
   "metadata": {
    "id": "Bb7MboiKZNHm"
   },
   "source": [
    "## 2.3 Fit the pipeline to the training data"
   ]
  },
  {
   "cell_type": "code",
   "execution_count": null,
   "metadata": {
    "colab": {
     "base_uri": "https://localhost:8080/",
     "height": 125
    },
    "executionInfo": {
     "elapsed": 374,
     "status": "ok",
     "timestamp": 1674642846644,
     "user": {
      "displayName": "Hana Lacic",
      "userId": "03901848044717845615"
     },
     "user_tz": -60
    },
    "id": "j9lfCJkQZRBz",
    "outputId": "c43e8330-8498-4af9-d119-e8ef785ecccb"
   },
   "outputs": [],
   "source": [
    "pipe.fit(X_train, y_train)"
   ]
  },
  {
   "cell_type": "markdown",
   "metadata": {
    "id": "gSnYFoSa--lI"
   },
   "source": [
    "If you want pipe steps presented like text:"
   ]
  },
  {
   "cell_type": "code",
   "execution_count": null,
   "metadata": {
    "colab": {
     "base_uri": "https://localhost:8080/"
    },
    "executionInfo": {
     "elapsed": 9,
     "status": "ok",
     "timestamp": 1674643573669,
     "user": {
      "displayName": "Hana Lacic",
      "userId": "03901848044717845615"
     },
     "user_tz": -60
    },
    "id": "k1s3TrkB-8Ke",
    "outputId": "abc818ad-af6c-4e76-a301-a66839796f0a"
   },
   "outputs": [],
   "source": [
    "from sklearn import set_config\n",
    "\n",
    "set_config(display=\"text\")\n",
    "pipe"
   ]
  },
  {
   "cell_type": "markdown",
   "metadata": {
    "id": "Wd4CfnXQ_MAP"
   },
   "source": [
    "To switch back to diagram:"
   ]
  },
  {
   "cell_type": "code",
   "execution_count": null,
   "metadata": {
    "colab": {
     "base_uri": "https://localhost:8080/",
     "height": 125
    },
    "executionInfo": {
     "elapsed": 391,
     "status": "ok",
     "timestamp": 1674643578676,
     "user": {
      "displayName": "Hana Lacic",
      "userId": "03901848044717845615"
     },
     "user_tz": -60
    },
    "id": "gUiCgxmD_LZ4",
    "outputId": "9d319e9e-237f-46e1-98f1-3da90a616193"
   },
   "outputs": [],
   "source": [
    "set_config(display=\"diagram\")\n",
    "pipe"
   ]
  },
  {
   "cell_type": "code",
   "execution_count": null,
   "metadata": {
    "colab": {
     "base_uri": "https://localhost:8080/"
    },
    "executionInfo": {
     "elapsed": 350,
     "status": "ok",
     "timestamp": 1674643744055,
     "user": {
      "displayName": "Hana Lacic",
      "userId": "03901848044717845615"
     },
     "user_tz": -60
    },
    "id": "ub7rM7ayicOQ",
    "outputId": "aefeb631-49d0-4c70-eeae-6bc9a15afbdd"
   },
   "outputs": [],
   "source": [
    "y_train_predict = pipe.predict(X_train)\n",
    "accuracy_score(y_train,y_train_predict)"
   ]
  },
  {
   "cell_type": "code",
   "execution_count": null,
   "metadata": {
    "colab": {
     "base_uri": "https://localhost:8080/"
    },
    "executionInfo": {
     "elapsed": 6,
     "status": "ok",
     "timestamp": 1674643777532,
     "user": {
      "displayName": "Hana Lacic",
      "userId": "03901848044717845615"
     },
     "user_tz": -60
    },
    "id": "Q3eIsd52i90w",
    "outputId": "de139538-573e-49af-a76a-9a6fc45a6969"
   },
   "outputs": [],
   "source": [
    "accuracy_score(y_train,pipe.predict(X_train))"
   ]
  },
  {
   "cell_type": "markdown",
   "metadata": {
    "id": "cd6oI7sxZS1B"
   },
   "source": [
    "## 2.4 Use the pipeline to make predictions"
   ]
  },
  {
   "cell_type": "code",
   "execution_count": null,
   "metadata": {
    "colab": {
     "base_uri": "https://localhost:8080/"
    },
    "executionInfo": {
     "elapsed": 375,
     "status": "ok",
     "timestamp": 1674643824432,
     "user": {
      "displayName": "Hana Lacic",
      "userId": "03901848044717845615"
     },
     "user_tz": -60
    },
    "id": "kdkaTOjYvu5h",
    "outputId": "021758b4-6b10-4f7e-eeed-72e8713cd4f4"
   },
   "outputs": [],
   "source": [
    "accuracy_score(y_test,pipe.predict(X_test))"
   ]
  },
  {
   "cell_type": "markdown",
   "metadata": {
    "id": "oXN7nfdoa6IT"
   },
   "source": [
    "Now, the object `pipe` can take (almost) raw data as input and output predictions. We no longer need to impute missing values and use the model to make predictions in separate steps."
   ]
  },
  {
   "cell_type": "markdown",
   "metadata": {
    "id": "EuOESLyyvu5i"
   },
   "source": [
    "# 3.&nbsp; Use GridSearchCV to find the best parameters of the model"
   ]
  },
  {
   "cell_type": "markdown",
   "metadata": {
    "id": "aK2MUlWFfTNw"
   },
   "source": [
    "So far, we tuned the hyperparameters of the decision tree manually. This is not ideal, for two reasons:\n",
    "\n",
    "- It's not efficient in terms of quickly finding the best combination of parameters.\n",
    "- If we keep checking the performance on the test set over and over again, we might end up creating a model that fits that particular test set, but does not generalize as well with new data. Test sets are meant to reamain unseen until the very last moment of ML development —we have been cheating a bit!\n",
    "\n",
    "Grid Search Cross Validation solves both issues:\n",
    "\n",
    "* Read the lesson \"Housing Prices: Iteration 2, Grid Search & Cross Validation\" on the platform.\n",
    "\n",
    "* Check the docs: https://scikit-learn.org/stable/modules/generated/sklearn.model_selection.GridSearchCV.html"
   ]
  },
  {
   "cell_type": "code",
   "execution_count": null,
   "metadata": {
    "executionInfo": {
     "elapsed": 455,
     "status": "ok",
     "timestamp": 1674644117852,
     "user": {
      "displayName": "Hana Lacic",
      "userId": "03901848044717845615"
     },
     "user_tz": -60
    },
    "id": "hCRL4XQuXUDg"
   },
   "outputs": [],
   "source": [
    "# 1. initialize transformers & model without specifying the parameters\n",
    "imputer = SimpleImputer()\n",
    "dtree = DecisionTreeClassifier()"
   ]
  },
  {
   "cell_type": "code",
   "execution_count": null,
   "metadata": {
    "executionInfo": {
     "elapsed": 6,
     "status": "ok",
     "timestamp": 1674644119720,
     "user": {
      "displayName": "Hana Lacic",
      "userId": "03901848044717845615"
     },
     "user_tz": -60
    },
    "id": "FfYckJMlXWO5"
   },
   "outputs": [],
   "source": [
    "# 2. Create a pipeline\n",
    "pipe = make_pipeline(imputer, dtree).set_output(transform='pandas')"
   ]
  },
  {
   "cell_type": "code",
   "execution_count": null,
   "metadata": {
    "colab": {
     "base_uri": "https://localhost:8080/",
     "height": 165
    },
    "executionInfo": {
     "elapsed": 11,
     "status": "ok",
     "timestamp": 1674643923576,
     "user": {
      "displayName": "Hana Lacic",
      "userId": "03901848044717845615"
     },
     "user_tz": -60
    },
    "id": "db4jVow9XbP-",
    "outputId": "ed11839c-f597-476c-c2f6-0a4265dd7669"
   },
   "outputs": [],
   "source": [
    "pipe"
   ]
  },
  {
   "cell_type": "markdown",
   "metadata": {
    "id": "RiHxuPHfXLmi"
   },
   "source": [
    "To define the parameter grid for cross validation, you need to create a dictionary, where:\n",
    "\n",
    "- The keys are the name of the pipeline step, followed by two underscores and the name of the parameter you want to tune.\n",
    "- The values are lists (or \"ranges\") with all the values you want to try for each parameter."
   ]
  },
  {
   "cell_type": "code",
   "execution_count": null,
   "metadata": {
    "executionInfo": {
     "elapsed": 374,
     "status": "ok",
     "timestamp": 1674644281866,
     "user": {
      "displayName": "Hana Lacic",
      "userId": "03901848044717845615"
     },
     "user_tz": -60
    },
    "id": "W7awfF-qvu5i"
   },
   "outputs": [],
   "source": [
    "param_grid = {\n",
    "    'simpleimputer__strategy':['median','mean'],\n",
    "    'decisiontreeclassifier__max_depth': range(2, 12),\n",
    "    'decisiontreeclassifier__min_samples_leaf': range(3, 10, 2),\n",
    "    'decisiontreeclassifier__min_samples_split': range(3, 40, 5),\n",
    "    'decisiontreeclassifier__criterion':['gini', 'entropy']\n",
    "    }"
   ]
  },
  {
   "cell_type": "markdown",
   "metadata": {
    "id": "7OJ5NreuX346"
   },
   "source": [
    "When defining the cross validation, we want to pass our pipeline (`pipe`), our parameter grid (`param_grid`) and the number of folds (an arbitrary number, usually 5 or 10). You can also define the parameter `verbose` if you want to recieve a bit more info about the CV task."
   ]
  },
  {
   "cell_type": "code",
   "execution_count": null,
   "metadata": {
    "executionInfo": {
     "elapsed": 344,
     "status": "ok",
     "timestamp": 1674644324313,
     "user": {
      "displayName": "Hana Lacic",
      "userId": "03901848044717845615"
     },
     "user_tz": -60
    },
    "id": "E_e-HXEJffTv"
   },
   "outputs": [],
   "source": [
    "from sklearn.model_selection import GridSearchCV"
   ]
  },
  {
   "cell_type": "code",
   "execution_count": null,
   "metadata": {
    "executionInfo": {
     "elapsed": 364,
     "status": "ok",
     "timestamp": 1674644625814,
     "user": {
      "displayName": "Hana Lacic",
      "userId": "03901848044717845615"
     },
     "user_tz": -60
    },
    "id": "KQNxK82JXlgx"
   },
   "outputs": [],
   "source": [
    "search = GridSearchCV(pipe, # you have defined this beforehand\n",
    "                      param_grid, # your parameter grid\n",
    "                      cv=5, # the value for K in K-fold Cross Validation\n",
    "                      scoring='accuracy', # the performance metric to use, \n",
    "                      verbose=1) # we want informative outputs during the training process"
   ]
  },
  {
   "cell_type": "markdown",
   "metadata": {
    "id": "OJRaujB9X-bV"
   },
   "source": [
    "Fit your \"search\" to the training data (`X` and `y`), as we used to do with our model alone or with our pipeline:"
   ]
  },
  {
   "cell_type": "code",
   "execution_count": null,
   "metadata": {
    "colab": {
     "base_uri": "https://localhost:8080/",
     "height": 168
    },
    "executionInfo": {
     "elapsed": 79344,
     "status": "ok",
     "timestamp": 1674644752099,
     "user": {
      "displayName": "Hana Lacic",
      "userId": "03901848044717845615"
     },
     "user_tz": -60
    },
    "id": "aHJ_JHWEvu5i",
    "outputId": "a4075f1c-8ee9-4880-b8d3-b4f75c17caff"
   },
   "outputs": [],
   "source": [
    "search.fit(X_imputed_train, y_train)"
   ]
  },
  {
   "cell_type": "markdown",
   "metadata": {
    "id": "DauXfzbyYCra"
   },
   "source": [
    "Explore the best parameters and the best score achieved with your cross validation:"
   ]
  },
  {
   "cell_type": "code",
   "execution_count": null,
   "metadata": {
    "colab": {
     "base_uri": "https://localhost:8080/"
    },
    "executionInfo": {
     "elapsed": 375,
     "status": "ok",
     "timestamp": 1674644916094,
     "user": {
      "displayName": "Hana Lacic",
      "userId": "03901848044717845615"
     },
     "user_tz": -60
    },
    "id": "UhJHlajCvu5i",
    "outputId": "7c1a7987-f36b-4184-8fc4-343be47297ac"
   },
   "outputs": [],
   "source": [
    "search.best_params_"
   ]
  },
  {
   "cell_type": "code",
   "execution_count": null,
   "metadata": {
    "colab": {
     "base_uri": "https://localhost:8080/"
    },
    "executionInfo": {
     "elapsed": 356,
     "status": "ok",
     "timestamp": 1674644950476,
     "user": {
      "displayName": "Hana Lacic",
      "userId": "03901848044717845615"
     },
     "user_tz": -60
    },
    "id": "UzXybXmDvu5i",
    "outputId": "6a24310f-f66a-464e-d743-5097f0c94a1d"
   },
   "outputs": [],
   "source": [
    "# the mean cross-validated score of the best estimator\n",
    "search.best_score_"
   ]
  },
  {
   "cell_type": "code",
   "execution_count": null,
   "metadata": {
    "colab": {
     "base_uri": "https://localhost:8080/"
    },
    "executionInfo": {
     "elapsed": 7,
     "status": "ok",
     "timestamp": 1674645009087,
     "user": {
      "displayName": "Hana Lacic",
      "userId": "03901848044717845615"
     },
     "user_tz": -60
    },
    "id": "0qtcwmmPYJeq",
    "outputId": "38ce9c55-3a97-413d-83de-442adc2e4e0a"
   },
   "outputs": [],
   "source": [
    "# training accuracy\n",
    "y_train_pred = search.predict(X_train)\n",
    "\n",
    "accuracy_score(y_train, y_train_pred)"
   ]
  },
  {
   "cell_type": "code",
   "execution_count": null,
   "metadata": {
    "colab": {
     "base_uri": "https://localhost:8080/"
    },
    "executionInfo": {
     "elapsed": 359,
     "status": "ok",
     "timestamp": 1674645029400,
     "user": {
      "displayName": "Hana Lacic",
      "userId": "03901848044717845615"
     },
     "user_tz": -60
    },
    "id": "1ZMbo9LEYLHP",
    "outputId": "b1585b8f-510f-4a7c-a90c-dfeb057db5a4"
   },
   "outputs": [],
   "source": [
    "# testing accuracy\n",
    "y_test_pred = search.predict(X_test)\n",
    "\n",
    "accuracy_score(y_test, y_test_pred)"
   ]
  },
  {
   "cell_type": "markdown",
   "metadata": {
    "id": "gIxMJAMxZ4JT"
   },
   "source": [
    "# 4.&nbsp; Use GridSearchCV to find the best parameters of the pipeline"
   ]
  },
  {
   "cell_type": "markdown",
   "metadata": {
    "id": "NBOYPkSfaKfa"
   },
   "source": [
    "Add a scaler to the pipeline, and use GridSearchCV to tune the parameters of the scaler, as well as the parameters of the imputer and the decision tree.\n",
    "\n",
    "This shows how Grid Search Cross Validation can be used to not only tune the parameters of the model but also the parameters of all the transformers in a pipeline, thus helping us find the best preprocessing strategy for our data."
   ]
  },
  {
   "cell_type": "code",
   "execution_count": null,
   "metadata": {
    "executionInfo": {
     "elapsed": 485,
     "status": "ok",
     "timestamp": 1674645407653,
     "user": {
      "displayName": "Hana Lacic",
      "userId": "03901848044717845615"
     },
     "user_tz": -60
    },
    "id": "47bItfTmgLFd"
   },
   "outputs": [],
   "source": [
    "from sklearn.preprocessing import StandardScaler"
   ]
  },
  {
   "cell_type": "code",
   "execution_count": null,
   "metadata": {
    "executionInfo": {
     "elapsed": 3,
     "status": "ok",
     "timestamp": 1674645411394,
     "user": {
      "displayName": "Hana Lacic",
      "userId": "03901848044717845615"
     },
     "user_tz": -60
    },
    "id": "MewEZR91gOhC"
   },
   "outputs": [],
   "source": [
    "# initialize transformers & model\n",
    "imputer = SimpleImputer()\n",
    "scaler = StandardScaler()\n",
    "dtree = DecisionTreeClassifier()"
   ]
  },
  {
   "cell_type": "code",
   "execution_count": null,
   "metadata": {
    "executionInfo": {
     "elapsed": 386,
     "status": "ok",
     "timestamp": 1674645511776,
     "user": {
      "displayName": "Hana Lacic",
      "userId": "03901848044717845615"
     },
     "user_tz": -60
    },
    "id": "WoRwFCcZgOdD"
   },
   "outputs": [],
   "source": [
    "# create the pipeline\n",
    "pipe = make_pipeline(imputer,\n",
    "                     scaler,\n",
    "                     dtree).set_output(transform='pandas')"
   ]
  },
  {
   "cell_type": "markdown",
   "metadata": {
    "id": "My_c2oTYgzRm"
   },
   "source": [
    "We can see the steps in the pipeline (note that they have been given names: `simpleimputer` and `decisiontreeclassifier`. we will use these names when defining the parameter grid for the cross validation)"
   ]
  },
  {
   "cell_type": "code",
   "execution_count": null,
   "metadata": {
    "colab": {
     "base_uri": "https://localhost:8080/",
     "height": 217
    },
    "executionInfo": {
     "elapsed": 379,
     "status": "ok",
     "timestamp": 1674645519120,
     "user": {
      "displayName": "Hana Lacic",
      "userId": "03901848044717845615"
     },
     "user_tz": -60
    },
    "id": "lMU7slfXgy7m",
    "outputId": "aa3ea971-a77e-4726-9819-71174380ab3a"
   },
   "outputs": [],
   "source": [
    "pipe"
   ]
  },
  {
   "cell_type": "code",
   "execution_count": null,
   "metadata": {
    "executionInfo": {
     "elapsed": 422,
     "status": "ok",
     "timestamp": 1674645599638,
     "user": {
      "displayName": "Hana Lacic",
      "userId": "03901848044717845615"
     },
     "user_tz": -60
    },
    "id": "TFj_f8NvgOYH"
   },
   "outputs": [],
   "source": [
    "# create parameter grid\n",
    "param_grid = {\n",
    "    \"simpleimputer__strategy\":[\"mean\", \"median\"],\n",
    "    \"standardscaler__with_mean\":[True, False],\n",
    "    \"standardscaler__with_std\":[True, False],\n",
    "    \"decisiontreeclassifier__max_depth\": range(2, 14),\n",
    "    \"decisiontreeclassifier__min_samples_leaf\": range(3, 20),\n",
    "    \"decisiontreeclassifier__criterion\":[\"gini\", \"entropy\"]\n",
    "}"
   ]
  },
  {
   "cell_type": "code",
   "execution_count": null,
   "metadata": {
    "executionInfo": {
     "elapsed": 375,
     "status": "ok",
     "timestamp": 1674645631297,
     "user": {
      "displayName": "Hana Lacic",
      "userId": "03901848044717845615"
     },
     "user_tz": -60
    },
    "id": "ud6p1wd5gOPv"
   },
   "outputs": [],
   "source": [
    "# define cross validation\n",
    "search = GridSearchCV(pipe,\n",
    "                      param_grid,\n",
    "                      cv=5,\n",
    "                      verbose=1)"
   ]
  },
  {
   "cell_type": "code",
   "execution_count": null,
   "metadata": {
    "colab": {
     "base_uri": "https://localhost:8080/",
     "height": 203
    },
    "executionInfo": {
     "elapsed": 296130,
     "status": "ok",
     "timestamp": 1674645937649,
     "user": {
      "displayName": "Hana Lacic",
      "userId": "03901848044717845615"
     },
     "user_tz": -60
    },
    "id": "hatozyjKgW9d",
    "outputId": "baf12a7f-4dc0-45a0-a5a9-56458a6feee3"
   },
   "outputs": [],
   "source": [
    "# fit\n",
    "search.fit(X_train, y_train)"
   ]
  },
  {
   "cell_type": "code",
   "execution_count": null,
   "metadata": {
    "colab": {
     "base_uri": "https://localhost:8080/"
    },
    "executionInfo": {
     "elapsed": 396,
     "status": "ok",
     "timestamp": 1674646503783,
     "user": {
      "displayName": "Hana Lacic",
      "userId": "03901848044717845615"
     },
     "user_tz": -60
    },
    "id": "Tz9KebEhgYQW",
    "outputId": "1b4f0f92-0106-4e16-903a-a54515e16a27"
   },
   "outputs": [],
   "source": [
    "# cross validation average accuracy\n",
    "search.best_score_"
   ]
  },
  {
   "cell_type": "code",
   "execution_count": null,
   "metadata": {
    "colab": {
     "base_uri": "https://localhost:8080/"
    },
    "executionInfo": {
     "elapsed": 394,
     "status": "ok",
     "timestamp": 1674646514569,
     "user": {
      "displayName": "Hana Lacic",
      "userId": "03901848044717845615"
     },
     "user_tz": -60
    },
    "id": "4f_xX3Piehq0",
    "outputId": "0e4b1deb-0122-4c8a-d590-4fe476ccff06"
   },
   "outputs": [],
   "source": [
    "# best parameters\n",
    "search.best_params_"
   ]
  },
  {
   "cell_type": "code",
   "execution_count": null,
   "metadata": {
    "id": "vylzDH2wtrct"
   },
   "outputs": [],
   "source": []
  },
  {
   "cell_type": "code",
   "execution_count": null,
   "metadata": {
    "colab": {
     "base_uri": "https://localhost:8080/"
    },
    "executionInfo": {
     "elapsed": 462,
     "status": "ok",
     "timestamp": 1674646593704,
     "user": {
      "displayName": "Hana Lacic",
      "userId": "03901848044717845615"
     },
     "user_tz": -60
    },
    "id": "D5a1rR1Utwk_",
    "outputId": "2dee8920-f8f4-4ccb-b042-63dfcd1248f2"
   },
   "outputs": [],
   "source": [
    "# training accuracy\n",
    "y_train_pred = search.predict(X_train)\n",
    "\n",
    "accuracy_score(y_train, y_train_pred)"
   ]
  },
  {
   "cell_type": "code",
   "execution_count": null,
   "metadata": {
    "colab": {
     "base_uri": "https://localhost:8080/"
    },
    "executionInfo": {
     "elapsed": 354,
     "status": "ok",
     "timestamp": 1674646596972,
     "user": {
      "displayName": "Hana Lacic",
      "userId": "03901848044717845615"
     },
     "user_tz": -60
    },
    "id": "FKYUAXaQtwlA",
    "outputId": "d7072fe4-ffbb-463b-ebc4-b6bdbeb0be4e"
   },
   "outputs": [],
   "source": [
    "# testing accuracy\n",
    "y_test_pred = search.predict(X_test)\n",
    "\n",
    "accuracy_score(y_test, y_test_pred)"
   ]
  },
  {
   "cell_type": "markdown",
   "metadata": {
    "id": "U5zAyC8_Uwpz"
   },
   "source": [
    "## **Your challenge**\n",
    "\n",
    "In a new notebook, apply everything you have learned here to the Housing project, following the Learning platform when needed."
   ]
  },
  {
   "cell_type": "code",
   "execution_count": null,
   "metadata": {
    "id": "3PMad0HLXeZO"
   },
   "outputs": [],
   "source": []
  }
 ],
 "metadata": {
  "colab": {
   "collapsed_sections": [
    "U5zAyC8_Uwpz"
   ],
   "provenance": [
    {
     "file_id": "1c0xU8RU4-YsU5yAfW1ziRi0qgtMrm2eH",
     "timestamp": 1674635138850
    },
    {
     "file_id": "1b_937Zoc2h8S8mo6My2sg6XwBc9I3T2U",
     "timestamp": 1668765926459
    }
   ]
  },
  "kernelspec": {
   "display_name": "Python 3 (ipykernel)",
   "language": "python",
   "name": "python3"
  },
  "language_info": {
   "codemirror_mode": {
    "name": "ipython",
    "version": 3
   },
   "file_extension": ".py",
   "mimetype": "text/x-python",
   "name": "python",
   "nbconvert_exporter": "python",
   "pygments_lexer": "ipython3",
   "version": "3.9.13"
  }
 },
 "nbformat": 4,
 "nbformat_minor": 1
}
